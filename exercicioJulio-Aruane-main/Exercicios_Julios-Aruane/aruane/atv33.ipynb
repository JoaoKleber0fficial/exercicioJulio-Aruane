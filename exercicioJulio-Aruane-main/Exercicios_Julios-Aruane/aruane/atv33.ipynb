{
 "cells": [
  {
   "cell_type": "code",
   "execution_count": 1,
   "id": "e438a6eb-0856-4b97-8f44-3ebdbbbb3934",
   "metadata": {},
   "outputs": [
    {
     "name": "stdin",
     "output_type": "stream",
     "text": [
      "Digite um número:  100\n"
     ]
    },
    {
     "name": "stdout",
     "output_type": "stream",
     "text": [
      "100 dividido por 100 é 1.0\n"
     ]
    }
   ],
   "source": [
    "# Exercicio 33\n",
    "\n",
    "# Solicita ao usuário para inserir um número\n",
    "numero = input(\"Digite um número: \")\n",
    "\n",
    "try:\n",
    "    # Converte o número para inteiro e tenta dividir 100 por ele\n",
    "    numero = int(numero)\n",
    "    resultado = 100 / numero\n",
    "    \n",
    "    # Exibe o resultado\n",
    "    print(f\"100 dividido por {numero} é {resultado}\")\n",
    "    \n",
    "except ZeroDivisionError:\n",
    "    # Trata o erro de divisão por zero\n",
    "    print(\"Erro: Não é possível dividir por zero!\")\n",
    "except ValueError:\n",
    "    # Trata o erro caso o usuário insira algo que não seja um número\n",
    "    print(\"Erro: Por favor, digite um número válido!\")\n"
   ]
  },
  {
   "cell_type": "code",
   "execution_count": null,
   "id": "d8003660-368d-464b-8b26-59ac432c3feb",
   "metadata": {},
   "outputs": [],
   "source": []
  }
 ],
 "metadata": {
  "kernelspec": {
   "display_name": "Python 3 (ipykernel)",
   "language": "python",
   "name": "python3"
  },
  "language_info": {
   "codemirror_mode": {
    "name": "ipython",
    "version": 3
   },
   "file_extension": ".py",
   "mimetype": "text/x-python",
   "name": "python",
   "nbconvert_exporter": "python",
   "pygments_lexer": "ipython3",
   "version": "3.12.7"
  }
 },
 "nbformat": 4,
 "nbformat_minor": 5
}
