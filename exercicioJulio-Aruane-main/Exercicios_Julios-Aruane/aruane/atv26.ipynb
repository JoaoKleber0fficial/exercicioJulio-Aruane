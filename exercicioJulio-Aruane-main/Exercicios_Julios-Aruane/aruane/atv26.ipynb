{
 "cells": [
  {
   "cell_type": "code",
   "execution_count": 5,
   "id": "069b83d7-4a91-47ef-b6a9-b7be299abb67",
   "metadata": {},
   "outputs": [
    {
     "name": "stdin",
     "output_type": "stream",
     "text": [
      "Digite uma data no formato dd/mm/aaaa:  02/08/2006\n"
     ]
    },
    {
     "name": "stdout",
     "output_type": "stream",
     "text": [
      "O dia da semana correspondente a 02/08/2006 é Wednesday.\n"
     ]
    }
   ],
   "source": [
    "# Exercicio 26\n",
    "\n",
    "import datetime\n",
    "\n",
    "# Solicita ao usuário para inserir uma data no formato dd/mm/aaaa\n",
    "data_input = input(\"Digite uma data no formato dd/mm/aaaa: \")\n",
    "\n",
    "# Converte a entrada de string para um objeto datetime\n",
    "try:\n",
    "    data = datetime.datetime.strptime(data_input, \"%d/%m/%Y\")\n",
    "    \n",
    "    # Usa o método .strftime() para obter o dia da semana\n",
    "    dia_da_semana = data.strftime(\"%A\")\n",
    "    \n",
    "    # Exibe o dia da semana correspondente\n",
    "    print(f\"O dia da semana correspondente a {data_input} é {dia_da_semana}.\")\n",
    "    \n",
    "except ValueError:\n",
    "    print(\"Data inválida! Certifique-se de digitar no formato dd/mm/aaaa.\")\n"
   ]
  },
  {
   "cell_type": "code",
   "execution_count": null,
   "id": "25657148-7f35-4fcc-a78b-9114ef56f055",
   "metadata": {},
   "outputs": [],
   "source": []
  }
 ],
 "metadata": {
  "kernelspec": {
   "display_name": "Python 3 (ipykernel)",
   "language": "python",
   "name": "python3"
  },
  "language_info": {
   "codemirror_mode": {
    "name": "ipython",
    "version": 3
   },
   "file_extension": ".py",
   "mimetype": "text/x-python",
   "name": "python",
   "nbconvert_exporter": "python",
   "pygments_lexer": "ipython3",
   "version": "3.12.7"
  }
 },
 "nbformat": 4,
 "nbformat_minor": 5
}
