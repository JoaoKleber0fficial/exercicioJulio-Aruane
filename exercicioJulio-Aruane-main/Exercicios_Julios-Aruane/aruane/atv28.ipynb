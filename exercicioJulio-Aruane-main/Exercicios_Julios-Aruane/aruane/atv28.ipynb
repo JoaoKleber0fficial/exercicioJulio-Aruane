{
 "cells": [
  {
   "cell_type": "code",
   "execution_count": 2,
   "id": "a0dfa4a3-9898-4a5c-adde-a31c920d77c2",
   "metadata": {},
   "outputs": [
    {
     "name": "stdout",
     "output_type": "stream",
     "text": [
      "Lista de 5 números aleatórios entre 1 e 100:\n",
      "[60, 85, 38, 58, 10]\n"
     ]
    }
   ],
   "source": [
    "# Exercicio 28\n",
    "\n",
    "import random\n",
    "\n",
    "# Gera uma lista com 5 números aleatórios entre 1 e 100\n",
    "numeros_aleatorios = [random.randint(1, 100) for _ in range(5)]\n",
    "\n",
    "# Exibe a lista de números aleatórios\n",
    "print(\"Lista de 5 números aleatórios entre 1 e 100:\")\n",
    "print(numeros_aleatorios)\n"
   ]
  },
  {
   "cell_type": "code",
   "execution_count": null,
   "id": "1d8bc573-fbcf-40ba-bdb9-40831aa930ee",
   "metadata": {},
   "outputs": [],
   "source": []
  }
 ],
 "metadata": {
  "kernelspec": {
   "display_name": "Python 3 (ipykernel)",
   "language": "python",
   "name": "python3"
  },
  "language_info": {
   "codemirror_mode": {
    "name": "ipython",
    "version": 3
   },
   "file_extension": ".py",
   "mimetype": "text/x-python",
   "name": "python",
   "nbconvert_exporter": "python",
   "pygments_lexer": "ipython3",
   "version": "3.12.7"
  }
 },
 "nbformat": 4,
 "nbformat_minor": 5
}
