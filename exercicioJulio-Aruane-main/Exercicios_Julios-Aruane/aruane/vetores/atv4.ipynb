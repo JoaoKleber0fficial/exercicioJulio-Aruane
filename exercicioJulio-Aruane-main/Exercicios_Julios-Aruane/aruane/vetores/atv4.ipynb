{
 "cells": [
  {
   "cell_type": "code",
   "execution_count": null,
   "id": "ed3d6b29-858a-40b3-a104-712b03a116c2",
   "metadata": {},
   "outputs": [],
   "source": [
    "# Exercicio 4\n",
    "\n",
    "lista = [6, 10, 17, 13, 50]\n",
    "def pesquisa_linear(lista, numero):\n",
    "    for indice, item in enumerate(lista):\n",
    "        if item == numero:\n",
    "          resposta = item\n",
    "          break\n",
    "        else:\n",
    "          resposta = -1\n",
    "    return resposta\n",
    "\n",
    "resposta = pesquisa_linear(lista, 13)\n",
    "print(resposta)"
   ]
  }
 ],
 "metadata": {
  "kernelspec": {
   "display_name": "Python 3 (ipykernel)",
   "language": "python",
   "name": "python3"
  },
  "language_info": {
   "codemirror_mode": {
    "name": "ipython",
    "version": 3
   },
   "file_extension": ".py",
   "mimetype": "text/x-python",
   "name": "python",
   "nbconvert_exporter": "python",
   "pygments_lexer": "ipython3",
   "version": "3.12.7"
  }
 },
 "nbformat": 4,
 "nbformat_minor": 5
}
