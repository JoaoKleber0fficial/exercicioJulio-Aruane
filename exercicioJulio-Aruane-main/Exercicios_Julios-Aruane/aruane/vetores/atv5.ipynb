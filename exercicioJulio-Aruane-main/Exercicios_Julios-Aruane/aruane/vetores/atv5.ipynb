{
 "cells": [
  {
   "cell_type": "code",
   "execution_count": 2,
   "id": "097a2773-70b9-4946-b528-ea1c49f3589a",
   "metadata": {},
   "outputs": [
    {
     "name": "stdout",
     "output_type": "stream",
     "text": [
      "[1, 2, 4, 5, 6]\n"
     ]
    }
   ],
   "source": [
    "# Exercicio 5\n",
    "\n",
    "lista = [1,2,3,4,5,6]\n",
    "number_busca = 3\n",
    "\n",
    "def exluir_elemento(lista, number_busca):\n",
    "  for indice, item in enumerate(lista):\n",
    "    if item == number_busca:\n",
    "      lista.pop(indice)\n",
    "      break\n",
    "\n",
    "exluir_elemento(lista, number_busca)\n",
    "print(lista)"
   ]
  },
  {
   "cell_type": "code",
   "execution_count": null,
   "id": "0a6f9415-e834-470b-a7fe-39ed6529fae1",
   "metadata": {},
   "outputs": [],
   "source": []
  }
 ],
 "metadata": {
  "kernelspec": {
   "display_name": "Python 3 (ipykernel)",
   "language": "python",
   "name": "python3"
  },
  "language_info": {
   "codemirror_mode": {
    "name": "ipython",
    "version": 3
   },
   "file_extension": ".py",
   "mimetype": "text/x-python",
   "name": "python",
   "nbconvert_exporter": "python",
   "pygments_lexer": "ipython3",
   "version": "3.12.7"
  }
 },
 "nbformat": 4,
 "nbformat_minor": 5
}
