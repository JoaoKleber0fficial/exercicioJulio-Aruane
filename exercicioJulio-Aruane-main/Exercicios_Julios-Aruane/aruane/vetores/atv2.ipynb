{
 "cells": [
  {
   "cell_type": "code",
   "execution_count": 10,
   "id": "155857cf-0c57-423b-a554-d49ba9e488aa",
   "metadata": {},
   "outputs": [
    {
     "data": {
      "text/plain": [
       "[5, 3, 8, 6, 1]"
      ]
     },
     "execution_count": 10,
     "metadata": {},
     "output_type": "execute_result"
    }
   ],
   "source": [
    "# Atividade 2\n",
    "lista = []\n",
    "\n",
    "def insercaoMultipla(lista):\n",
    "    numero = [5, 3, 8, 6, 1]\n",
    "    for i in numero:\n",
    "        lista.append(i)\n",
    "    return lista\n",
    "\n",
    "insercaoMultipla(lista)"
   ]
  },
  {
   "cell_type": "code",
   "execution_count": null,
   "id": "58037ef5-02b2-4181-8dce-266d98f78c4e",
   "metadata": {},
   "outputs": [],
   "source": []
  }
 ],
 "metadata": {
  "kernelspec": {
   "display_name": "Python 3 (ipykernel)",
   "language": "python",
   "name": "python3"
  },
  "language_info": {
   "codemirror_mode": {
    "name": "ipython",
    "version": 3
   },
   "file_extension": ".py",
   "mimetype": "text/x-python",
   "name": "python",
   "nbconvert_exporter": "python",
   "pygments_lexer": "ipython3",
   "version": "3.12.7"
  }
 },
 "nbformat": 4,
 "nbformat_minor": 5
}
