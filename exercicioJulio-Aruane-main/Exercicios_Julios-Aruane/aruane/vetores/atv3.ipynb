{
 "cells": [
  {
   "cell_type": "code",
   "execution_count": 4,
   "id": "c49f5fe6-999d-4de2-a06d-d0aba4c91230",
   "metadata": {},
   "outputs": [
    {
     "data": {
      "text/plain": [
       "[1, 2, 3, 4, 10]"
      ]
     },
     "execution_count": 4,
     "metadata": {},
     "output_type": "execute_result"
    }
   ],
   "source": [
    "# Exercicio 3\n",
    "\n",
    "lista = [1, 2, 3, 4]\n",
    "valor = 10\n",
    "def funcao_insercao(lista, valor):\n",
    "    lista.append(valor)\n",
    "    return lista\n",
    "\n",
    "funcao_insercao(lista, valor)"
   ]
  },
  {
   "cell_type": "code",
   "execution_count": null,
   "id": "c2942546-3b00-4045-abae-e8bc1c7d3f19",
   "metadata": {},
   "outputs": [],
   "source": []
  }
 ],
 "metadata": {
  "kernelspec": {
   "display_name": "Python 3 (ipykernel)",
   "language": "python",
   "name": "python3"
  },
  "language_info": {
   "codemirror_mode": {
    "name": "ipython",
    "version": 3
   },
   "file_extension": ".py",
   "mimetype": "text/x-python",
   "name": "python",
   "nbconvert_exporter": "python",
   "pygments_lexer": "ipython3",
   "version": "3.12.7"
  }
 },
 "nbformat": 4,
 "nbformat_minor": 5
}
