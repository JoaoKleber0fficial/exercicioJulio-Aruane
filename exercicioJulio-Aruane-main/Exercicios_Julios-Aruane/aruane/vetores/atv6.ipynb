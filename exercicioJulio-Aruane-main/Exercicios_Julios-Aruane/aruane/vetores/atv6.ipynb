{
 "cells": [
  {
   "cell_type": "code",
   "execution_count": 1,
   "id": "df2222f8-48b9-44e7-b92d-d0f8a56b58d2",
   "metadata": {},
   "outputs": [
    {
     "name": "stdout",
     "output_type": "stream",
     "text": [
      "[1, 2, 3, 4, 5]\n"
     ]
    }
   ],
   "source": [
    "# Exercicio 6\n",
    "\n",
    "def inserir_em_lista_ordenada(lista, elemento):\n",
    "    # Itera sobre a lista para encontrar a posição correta para o novo elemento\n",
    "    for i in range(len(lista)):\n",
    "        if lista[i] > elemento:\n",
    "            lista.insert(i, elemento)\n",
    "            return lista\n",
    "    # Se o elemento for maior que todos, insere no final da lista\n",
    "    lista.append(elemento)\n",
    "    return lista\n",
    "\n",
    "# Exemplo de uso:\n",
    "lista = [1, 2, 4, 5]\n",
    "elemento = 3\n",
    "lista_ordenada = inserir_em_lista_ordenada(lista, elemento)\n",
    "print(lista_ordenada)"
   ]
  },
  {
   "cell_type": "code",
   "execution_count": null,
   "id": "b0867a5c-b6ce-4a85-bbe8-9d5bcd42a825",
   "metadata": {},
   "outputs": [],
   "source": []
  }
 ],
 "metadata": {
  "kernelspec": {
   "display_name": "Python 3 (ipykernel)",
   "language": "python",
   "name": "python3"
  },
  "language_info": {
   "codemirror_mode": {
    "name": "ipython",
    "version": 3
   },
   "file_extension": ".py",
   "mimetype": "text/x-python",
   "name": "python",
   "nbconvert_exporter": "python",
   "pygments_lexer": "ipython3",
   "version": "3.12.7"
  }
 },
 "nbformat": 4,
 "nbformat_minor": 5
}
