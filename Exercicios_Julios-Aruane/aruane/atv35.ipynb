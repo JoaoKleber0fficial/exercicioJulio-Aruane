{
 "cells": [
  {
   "cell_type": "code",
   "execution_count": null,
   "id": "caecd640-8967-4f29-a482-b68fea6215fa",
   "metadata": {},
   "outputs": [],
   "source": [
    "# Exercicio 35\n",
    "\n",
    "try:\n",
    "    # Solicita ao usuário para inserir um número inteiro\n",
    "    numero = int(input(\"Digite um número inteiro: \"))\n",
    "    \n",
    "    # Exibe o quadrado do número\n",
    "    quadrado = numero ** 2\n",
    "    print(f\"O quadrado de {numero} é {quadrado}.\")\n",
    "    \n",
    "except ValueError:\n",
    "    # Trata o erro caso o usuário insira um valor não numérico\n",
    "    print(\"Erro: Por favor, digite um número inteiro válido!\")\n"
   ]
  }
 ],
 "metadata": {
  "kernelspec": {
   "display_name": "Python 3 (ipykernel)",
   "language": "python",
   "name": "python3"
  },
  "language_info": {
   "codemirror_mode": {
    "name": "ipython",
    "version": 3
   },
   "file_extension": ".py",
   "mimetype": "text/x-python",
   "name": "python",
   "nbconvert_exporter": "python",
   "pygments_lexer": "ipython3",
   "version": "3.12.7"
  }
 },
 "nbformat": 4,
 "nbformat_minor": 5
}
