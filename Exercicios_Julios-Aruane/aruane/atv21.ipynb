{
 "cells": [
  {
   "cell_type": "code",
   "execution_count": null,
   "id": "9c04eaaa-b86b-432e-bf16-5c1d3ce94a5a",
   "metadata": {},
   "outputs": [],
   "source": [
    "# Exercicio 21\n",
    "\n",
    "matriz1 = []\n",
    "\n",
    "for i in range(2):\n",
    "    matriz1.append([])\n",
    "    for j in range(2):\n",
    "        matriz1[i].append(int(input('Digite o valor da posição {}:{}: ' .format(i,j))))\n",
    "\n",
    "matriz2 = []\n",
    "\n",
    "for i in range(2):\n",
    "    matriz2.append([])\n",
    "    for j in range(2):\n",
    "        matriz2[i].append(int(input('Digite o valor da posição {}:{}: ' .format(i,j))))\n",
    "        \n",
    "\n",
    "def somar(matriz1, matriz2):\n",
    "    matriz_soma = []\n",
    "\n",
    "    quant_linhas = len(matriz1)\n",
    "    quant_colunas = len(matriz1[0]) \n",
    "    for i in range(quant_linhas):\n",
    "\n",
    "        matriz_soma.append([])\n",
    "        for j in range(quant_colunas):\n",
    "\n",
    "            soma = matriz1[i][j] + matriz2[i][j]\n",
    "            matriz_soma[i].append(soma)\n",
    "    return matriz_soma\n",
    "\n",
    "print(matriz_soma)"
   ]
  }
 ],
 "metadata": {
  "kernelspec": {
   "display_name": "Python 3 (ipykernel)",
   "language": "python",
   "name": "python3"
  },
  "language_info": {
   "codemirror_mode": {
    "name": "ipython",
    "version": 3
   },
   "file_extension": ".py",
   "mimetype": "text/x-python",
   "name": "python",
   "nbconvert_exporter": "python",
   "pygments_lexer": "ipython3",
   "version": "3.12.7"
  }
 },
 "nbformat": 4,
 "nbformat_minor": 5
}
