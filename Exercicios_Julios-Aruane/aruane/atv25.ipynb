{
 "cells": [
  {
   "cell_type": "code",
   "execution_count": 2,
   "id": "a4131418-180b-4837-970e-01e0eb1e7878",
   "metadata": {},
   "outputs": [
    {
     "name": "stdin",
     "output_type": "stream",
     "text": [
      "Digite um número para calcular sua raiz quadrada:  4\n"
     ]
    },
    {
     "name": "stdout",
     "output_type": "stream",
     "text": [
      "A raiz quadrada de 4.0 é 2.0\n"
     ]
    }
   ],
   "source": [
    "# Exercicio 25\n",
    "\n",
    "import math\n",
    "\n",
    "# Solicita ao usuário para inserir um número\n",
    "numero = float(input(\"Digite um número para calcular sua raiz quadrada: \"))\n",
    "\n",
    "# Verifica se o número é negativo\n",
    "if numero < 0:\n",
    "    print(\"Não é possível calcular a raiz quadrada de um número negativo.\")\n",
    "else:\n",
    "    # Calcula a raiz quadrada\n",
    "    raiz_quadrada = math.sqrt(numero)\n",
    "    print(f\"A raiz quadrada de {numero} é {raiz_quadrada}\")"
   ]
  },
  {
   "cell_type": "code",
   "execution_count": null,
   "id": "8b3ba303-0caa-4eb6-ac13-fd086c3c2a95",
   "metadata": {},
   "outputs": [],
   "source": []
  }
 ],
 "metadata": {
  "kernelspec": {
   "display_name": "Python 3 (ipykernel)",
   "language": "python",
   "name": "python3"
  },
  "language_info": {
   "codemirror_mode": {
    "name": "ipython",
    "version": 3
   },
   "file_extension": ".py",
   "mimetype": "text/x-python",
   "name": "python",
   "nbconvert_exporter": "python",
   "pygments_lexer": "ipython3",
   "version": "3.12.7"
  }
 },
 "nbformat": 4,
 "nbformat_minor": 5
}
