{
 "cells": [
  {
   "cell_type": "code",
   "execution_count": 1,
   "id": "a92ec6f8-b3b2-4270-8d2f-018867e75495",
   "metadata": {},
   "outputs": [
    {
     "name": "stdout",
     "output_type": "stream",
     "text": [
      "Python é incrível!\n"
     ]
    }
   ],
   "source": [
    "# Exercicio 31\n",
    "\n",
    "# Abre o arquivo \"texto.txt\" em modo de leitura (\"r\")\n",
    "with open(\"texto.txt\", \"r\") as arquivo:\n",
    "    # Lê o conteúdo do arquivo\n",
    "    conteudo = arquivo.read()\n",
    "\n",
    "# Exibe o conteúdo do arquivo\n",
    "print(conteudo)"
   ]
  },
  {
   "cell_type": "code",
   "execution_count": null,
   "id": "545e1211-e408-412f-b772-7d0188b3d5c4",
   "metadata": {},
   "outputs": [],
   "source": []
  }
 ],
 "metadata": {
  "kernelspec": {
   "display_name": "Python 3 (ipykernel)",
   "language": "python",
   "name": "python3"
  },
  "language_info": {
   "codemirror_mode": {
    "name": "ipython",
    "version": 3
   },
   "file_extension": ".py",
   "mimetype": "text/x-python",
   "name": "python",
   "nbconvert_exporter": "python",
   "pygments_lexer": "ipython3",
   "version": "3.12.7"
  }
 },
 "nbformat": 4,
 "nbformat_minor": 5
}
