{
 "cells": [
  {
   "cell_type": "code",
   "execution_count": 1,
   "id": "c0b7a1d6-ee76-4956-952c-5c37a064870f",
   "metadata": {},
   "outputs": [
    {
     "name": "stdout",
     "output_type": "stream",
     "text": [
      "A soma dos números ímpares é: 25\n"
     ]
    }
   ],
   "source": [
    "# Exercicio 24\n",
    "\n",
    "def soma_impares(lista):\n",
    "    # Inicializa a variável para armazenar a soma dos números ímpares\n",
    "    soma = 0\n",
    "    \n",
    "    # Itera sobre todos os números na lista\n",
    "    for numero in lista:\n",
    "        # Verifica se o número é ímpar\n",
    "        if numero % 2 != 0:\n",
    "            soma += numero  # Adiciona o número à soma\n",
    "            \n",
    "    return soma  # Retorna a soma dos números ímpares\n",
    "\n",
    "# Exemplo de uso\n",
    "numeros = [1, 2, 3, 4, 5, 6, 7, 8, 9]\n",
    "resultado = soma_impares(numeros)\n",
    "print(f\"A soma dos números ímpares é: {resultado}\")\n"
   ]
  },
  {
   "cell_type": "code",
   "execution_count": null,
   "id": "2a575888-ca13-4374-b43e-531f9d750d26",
   "metadata": {},
   "outputs": [],
   "source": []
  }
 ],
 "metadata": {
  "kernelspec": {
   "display_name": "Python 3 (ipykernel)",
   "language": "python",
   "name": "python3"
  },
  "language_info": {
   "codemirror_mode": {
    "name": "ipython",
    "version": 3
   },
   "file_extension": ".py",
   "mimetype": "text/x-python",
   "name": "python",
   "nbconvert_exporter": "python",
   "pygments_lexer": "ipython3",
   "version": "3.12.7"
  }
 },
 "nbformat": 4,
 "nbformat_minor": 5
}
