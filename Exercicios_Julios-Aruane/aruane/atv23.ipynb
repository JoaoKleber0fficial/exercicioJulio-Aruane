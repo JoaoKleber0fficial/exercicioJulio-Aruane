{
 "cells": [
  {
   "cell_type": "code",
   "execution_count": 1,
   "id": "71f54ebb-6dd4-46d0-b215-ba20a52e64eb",
   "metadata": {},
   "outputs": [
    {
     "name": "stdout",
     "output_type": "stream",
     "text": [
      "O numero 2 é Par\n"
     ]
    }
   ],
   "source": [
    "# Exercicio 23\n",
    "\n",
    "def parImpar(numero):\n",
    "\n",
    "    if numero % 2 == 0:\n",
    "        print(f'O numero {numero} é Par')\n",
    "    else:\n",
    "        print(f'O numero {numero} é Impar')\n",
    "\n",
    "parImpar(2)"
   ]
  },
  {
   "cell_type": "code",
   "execution_count": null,
   "id": "da6032f2-bb39-49c6-8af8-2f3dde8cc35f",
   "metadata": {},
   "outputs": [],
   "source": []
  }
 ],
 "metadata": {
  "kernelspec": {
   "display_name": "Python 3 (ipykernel)",
   "language": "python",
   "name": "python3"
  },
  "language_info": {
   "codemirror_mode": {
    "name": "ipython",
    "version": 3
   },
   "file_extension": ".py",
   "mimetype": "text/x-python",
   "name": "python",
   "nbconvert_exporter": "python",
   "pygments_lexer": "ipython3",
   "version": "3.12.7"
  }
 },
 "nbformat": 4,
 "nbformat_minor": 5
}
