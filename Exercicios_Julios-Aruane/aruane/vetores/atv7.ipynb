{
 "cells": [
  {
   "cell_type": "code",
   "execution_count": null,
   "id": "39c388b9-4680-4351-bf6d-4a756322af8c",
   "metadata": {},
   "outputs": [],
   "source": []
  }
 ],
 "metadata": {
  "kernelspec": {
   "display_name": "",
   "name": ""
  },
  "language_info": {
   "name": ""
  }
 },
 "nbformat": 4,
 "nbformat_minor": 5
}
