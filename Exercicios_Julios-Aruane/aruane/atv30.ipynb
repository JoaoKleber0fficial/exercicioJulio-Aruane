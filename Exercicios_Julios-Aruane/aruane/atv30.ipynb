{
 "cells": [
  {
   "cell_type": "code",
   "execution_count": 1,
   "id": "ce6dcc7c-5e91-4eb0-8352-41587acd96a2",
   "metadata": {},
   "outputs": [
    {
     "name": "stdout",
     "output_type": "stream",
     "text": [
      "A frase foi escrita no arquivo 'texto.txt'.\n"
     ]
    }
   ],
   "source": [
    "# Exercicio 30\n",
    "\n",
    "# Abre o arquivo \"texto.txt\" em modo de escrita (\"w\")\n",
    "with open(\"texto.txt\", \"w\") as arquivo:\n",
    "    # Escreve a frase no arquivo\n",
    "    arquivo.write(\"Python é incrível!\")\n",
    "    \n",
    "print(\"A frase foi escrita no arquivo 'texto.txt'.\")"
   ]
  },
  {
   "cell_type": "code",
   "execution_count": null,
   "id": "60671834-0677-45b0-b307-8ca39870ddf8",
   "metadata": {},
   "outputs": [],
   "source": []
  }
 ],
 "metadata": {
  "kernelspec": {
   "display_name": "Python 3 (ipykernel)",
   "language": "python",
   "name": "python3"
  },
  "language_info": {
   "codemirror_mode": {
    "name": "ipython",
    "version": 3
   },
   "file_extension": ".py",
   "mimetype": "text/x-python",
   "name": "python",
   "nbconvert_exporter": "python",
   "pygments_lexer": "ipython3",
   "version": "3.12.7"
  }
 },
 "nbformat": 4,
 "nbformat_minor": 5
}
