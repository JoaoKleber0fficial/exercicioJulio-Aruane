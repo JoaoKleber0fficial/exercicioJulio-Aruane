{
 "cells": [
  {
   "cell_type": "code",
   "execution_count": 2,
   "id": "c5d98aad-7fcd-43c0-b1e8-d5c821293cdf",
   "metadata": {},
   "outputs": [
    {
     "name": "stdin",
     "output_type": "stream",
     "text": [
      "Digite um número:  10\n"
     ]
    },
    {
     "name": "stdout",
     "output_type": "stream",
     "text": [
      "O valor aleatório entre 1 e 10 é: 3\n"
     ]
    }
   ],
   "source": [
    "# Exercicio 27\n",
    "\n",
    "import random\n",
    "\n",
    "# Solicita ao usuário para inserir um número\n",
    "numero = int(input(\"Digite um número: \"))\n",
    "\n",
    "# Gera um valor aleatório entre 1 e o número fornecido\n",
    "valor_aleatorio = random.randint(1, numero)\n",
    "\n",
    "# Exibe o valor aleatório\n",
    "print(f\"O valor aleatório entre 1 e {numero} é: {valor_aleatorio}\")\n"
   ]
  },
  {
   "cell_type": "code",
   "execution_count": null,
   "id": "9cacc0dd-d4ee-4309-a3d1-56489c759ded",
   "metadata": {},
   "outputs": [],
   "source": []
  }
 ],
 "metadata": {
  "kernelspec": {
   "display_name": "Python 3 (ipykernel)",
   "language": "python",
   "name": "python3"
  },
  "language_info": {
   "codemirror_mode": {
    "name": "ipython",
    "version": 3
   },
   "file_extension": ".py",
   "mimetype": "text/x-python",
   "name": "python",
   "nbconvert_exporter": "python",
   "pygments_lexer": "ipython3",
   "version": "3.12.7"
  }
 },
 "nbformat": 4,
 "nbformat_minor": 5
}
