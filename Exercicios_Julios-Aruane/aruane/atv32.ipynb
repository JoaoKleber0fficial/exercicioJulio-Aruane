{
 "cells": [
  {
   "cell_type": "code",
   "execution_count": 1,
   "id": "366adcc3-0319-4320-9878-8085f39b1985",
   "metadata": {},
   "outputs": [
    {
     "name": "stdin",
     "output_type": "stream",
     "text": [
      "Digite o nome:  joao\n",
      "Digite o telefone:  11996610084\n"
     ]
    },
    {
     "name": "stdout",
     "output_type": "stream",
     "text": [
      "Contato adicionado com sucesso ao arquivo 'contatos.txt'.\n"
     ]
    }
   ],
   "source": [
    "# Exercicio 32\n",
    "\n",
    "# Solicita ao usuário para inserir nome e telefone\n",
    "nome = input(\"Digite o nome: \")\n",
    "telefone = input(\"Digite o telefone: \")\n",
    "\n",
    "# Abre o arquivo \"contatos.txt\" em modo de adição (\"a\")\n",
    "with open(\"contatos.txt\", \"a\") as arquivo:\n",
    "    # Escreve o nome e telefone no arquivo, separando por uma vírgula e uma linha nova\n",
    "    arquivo.write(f\"{nome}, {telefone}\\n\")\n",
    "\n",
    "print(\"Contato adicionado com sucesso ao arquivo 'contatos.txt'.\")\n"
   ]
  },
  {
   "cell_type": "code",
   "execution_count": null,
   "id": "e4d3907f-8546-4e9e-9484-1888975b0ad7",
   "metadata": {},
   "outputs": [],
   "source": []
  }
 ],
 "metadata": {
  "kernelspec": {
   "display_name": "Python 3 (ipykernel)",
   "language": "python",
   "name": "python3"
  },
  "language_info": {
   "codemirror_mode": {
    "name": "ipython",
    "version": 3
   },
   "file_extension": ".py",
   "mimetype": "text/x-python",
   "name": "python",
   "nbconvert_exporter": "python",
   "pygments_lexer": "ipython3",
   "version": "3.12.7"
  }
 },
 "nbformat": 4,
 "nbformat_minor": 5
}
