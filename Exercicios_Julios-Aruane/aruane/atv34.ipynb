{
 "cells": [
  {
   "cell_type": "code",
   "execution_count": 2,
   "id": "42c08934-7f4b-4450-96da-ac8b5f36e842",
   "metadata": {},
   "outputs": [
    {
     "name": "stdin",
     "output_type": "stream",
     "text": [
      "Digite um número:  3.5\n"
     ]
    },
    {
     "name": "stdout",
     "output_type": "stream",
     "text": [
      "Erro: Por favor, digite um número válido!\n"
     ]
    },
    {
     "name": "stdin",
     "output_type": "stream",
     "text": [
      "Digite um número:  30\n"
     ]
    },
    {
     "name": "stdout",
     "output_type": "stream",
     "text": [
      "Você digitou o número: 30\n"
     ]
    }
   ],
   "source": [
    "# Exercicio 34\n",
    "\n",
    "while True:\n",
    "    try:\n",
    "        # Solicita ao usuário para inserir um número\n",
    "        numero = input(\"Digite um número: \")\n",
    "\n",
    "        # Tenta converter a entrada para um número inteiro\n",
    "        numero = int(numero)\n",
    "        \n",
    "        # Se a conversão for bem-sucedida, sai do loop\n",
    "        print(f\"Você digitou o número: {numero}\")\n",
    "        break\n",
    "    except ValueError:\n",
    "        # Caso o usuário não insira um número, exibe uma mensagem de erro\n",
    "        print(\"Erro: Por favor, digite um número válido!\")\n"
   ]
  },
  {
   "cell_type": "code",
   "execution_count": null,
   "id": "626a3e10-1fd9-403c-9145-28f7673e850f",
   "metadata": {},
   "outputs": [],
   "source": []
  }
 ],
 "metadata": {
  "kernelspec": {
   "display_name": "Python 3 (ipykernel)",
   "language": "python",
   "name": "python3"
  },
  "language_info": {
   "codemirror_mode": {
    "name": "ipython",
    "version": 3
   },
   "file_extension": ".py",
   "mimetype": "text/x-python",
   "name": "python",
   "nbconvert_exporter": "python",
   "pygments_lexer": "ipython3",
   "version": "3.12.7"
  }
 },
 "nbformat": 4,
 "nbformat_minor": 5
}
