{
 "cells": [
  {
   "cell_type": "code",
   "execution_count": 3,
   "id": "39c388b9-4680-4351-bf6d-4a756322af8c",
   "metadata": {},
   "outputs": [
    {
     "data": {
      "text/plain": [
       "[1, 2, 3, 4, 5, 6, 7, 8, 9, 10]"
      ]
     },
     "execution_count": 3,
     "metadata": {},
     "output_type": "execute_result"
    }
   ],
   "source": [
    "# Exercicio 7\n",
    "\n",
    "lista = []\n",
    "\n",
    "def inserindoNumeros(lista):\n",
    "    for i in range(1, 11):\n",
    "        lista.append(i)\n",
    "    return lista\n",
    "\n",
    "inserindoNumeros(lista)"
   ]
  },
  {
   "cell_type": "code",
   "execution_count": null,
   "id": "0361d863-cf16-46f6-a646-20b988c60846",
   "metadata": {},
   "outputs": [],
   "source": []
  }
 ],
 "metadata": {
  "kernelspec": {
   "display_name": "Python 3 (ipykernel)",
   "language": "python",
   "name": "python3"
  },
  "language_info": {
   "codemirror_mode": {
    "name": "ipython",
    "version": 3
   },
   "file_extension": ".py",
   "mimetype": "text/x-python",
   "name": "python",
   "nbconvert_exporter": "python",
   "pygments_lexer": "ipython3",
   "version": "3.12.7"
  }
 },
 "nbformat": 4,
 "nbformat_minor": 5
}
