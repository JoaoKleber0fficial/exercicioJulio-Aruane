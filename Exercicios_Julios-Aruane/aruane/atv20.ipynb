{
 "cells": [
  {
   "cell_type": "code",
   "execution_count": 1,
   "id": "15001223-de3c-4a15-b33b-cfe8c68a837f",
   "metadata": {},
   "outputs": [
    {
     "name": "stdin",
     "output_type": "stream",
     "text": [
      "Digite o valor da posição 0:0:  1\n",
      "Digite o valor da posição 0:1:  2\n",
      "Digite o valor da posição 0:2:  1\n",
      "Digite o valor da posição 1:0:  2\n",
      "Digite o valor da posição 1:1:  1\n",
      "Digite o valor da posição 1:2:  2\n",
      "Digite o valor da posição 2:0:  1\n",
      "Digite o valor da posição 2:1:  2\n",
      "Digite o valor da posição 2:2:  1\n"
     ]
    },
    {
     "name": "stdout",
     "output_type": "stream",
     "text": [
      "[1, 2, 1]\n",
      "[2, 1, 2]\n",
      "[1, 2, 1]\n"
     ]
    }
   ],
   "source": [
    "# Exercicio 20\n",
    "\n",
    "matriz = []\n",
    "\n",
    "for i in range(3):\n",
    "    matriz.append([])\n",
    "    for j in range(3):\n",
    "        matriz[i].append(int(input('Digite o valor da posição {}:{}: ' .format(i,j))))\n",
    "\n",
    "for i in range(3):\n",
    "    print(matriz[i])"
   ]
  },
  {
   "cell_type": "code",
   "execution_count": null,
   "id": "d92fd11e-4daf-4214-83de-67d359f708dc",
   "metadata": {},
   "outputs": [],
   "source": []
  }
 ],
 "metadata": {
  "kernelspec": {
   "display_name": "Python 3 (ipykernel)",
   "language": "python",
   "name": "python3"
  },
  "language_info": {
   "codemirror_mode": {
    "name": "ipython",
    "version": 3
   },
   "file_extension": ".py",
   "mimetype": "text/x-python",
   "name": "python",
   "nbconvert_exporter": "python",
   "pygments_lexer": "ipython3",
   "version": "3.12.7"
  }
 },
 "nbformat": 4,
 "nbformat_minor": 5
}
