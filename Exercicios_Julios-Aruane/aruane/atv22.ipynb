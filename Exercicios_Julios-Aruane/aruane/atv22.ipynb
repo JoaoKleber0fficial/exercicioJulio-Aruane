{
 "cells": [
  {
   "cell_type": "code",
   "execution_count": 9,
   "id": "f9e06ea4-82df-4bf2-8cdb-109b994c78e4",
   "metadata": {},
   "outputs": [
    {
     "name": "stdin",
     "output_type": "stream",
     "text": [
      "Digite um número:  2\n"
     ]
    },
    {
     "data": {
      "text/plain": [
       "4"
      ]
     },
     "execution_count": 9,
     "metadata": {},
     "output_type": "execute_result"
    }
   ],
   "source": [
    "# Exercicio 22\n",
    "\n",
    "numero = int(input('Digite um número: '))\n",
    "\n",
    "def dobro(numero):\n",
    "    return numero * 2\n",
    "\n",
    "dobro(numero)"
   ]
  },
  {
   "cell_type": "code",
   "execution_count": null,
   "id": "3af84dd4-f4e6-449d-90f1-70e1383bc54b",
   "metadata": {},
   "outputs": [],
   "source": []
  }
 ],
 "metadata": {
  "kernelspec": {
   "display_name": "Python 3 (ipykernel)",
   "language": "python",
   "name": "python3"
  },
  "language_info": {
   "codemirror_mode": {
    "name": "ipython",
    "version": 3
   },
   "file_extension": ".py",
   "mimetype": "text/x-python",
   "name": "python",
   "nbconvert_exporter": "python",
   "pygments_lexer": "ipython3",
   "version": "3.12.7"
  }
 },
 "nbformat": 4,
 "nbformat_minor": 5
}
