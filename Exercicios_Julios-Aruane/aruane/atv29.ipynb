{
 "cells": [
  {
   "cell_type": "code",
   "execution_count": 1,
   "id": "f1b271c1-08fe-48b4-8fd0-0493925303fc",
   "metadata": {},
   "outputs": [
    {
     "name": "stdout",
     "output_type": "stream",
     "text": [
      "Lançando o dado...\n",
      "O resultado do lançamento do dado é: 6\n"
     ]
    }
   ],
   "source": [
    "# Exercicio 29\n",
    "\n",
    "import random\n",
    "import time\n",
    "\n",
    "# Simula o lançamento do dado\n",
    "dado = random.randint(1, 6)\n",
    "\n",
    "# Adiciona uma pausa de 2 segundos\n",
    "print(\"Lançando o dado...\")\n",
    "time.sleep(2)\n",
    "\n",
    "# Exibe o resultado\n",
    "print(f\"O resultado do lançamento do dado é: {dado}\")\n"
   ]
  },
  {
   "cell_type": "code",
   "execution_count": null,
   "id": "87a996fb-dcad-41a1-b5a1-4091f7ebdc09",
   "metadata": {},
   "outputs": [],
   "source": []
  }
 ],
 "metadata": {
  "kernelspec": {
   "display_name": "Python 3 (ipykernel)",
   "language": "python",
   "name": "python3"
  },
  "language_info": {
   "codemirror_mode": {
    "name": "ipython",
    "version": 3
   },
   "file_extension": ".py",
   "mimetype": "text/x-python",
   "name": "python",
   "nbconvert_exporter": "python",
   "pygments_lexer": "ipython3",
   "version": "3.12.7"
  }
 },
 "nbformat": 4,
 "nbformat_minor": 5
}
